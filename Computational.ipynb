{
  "nbformat": 4,
  "nbformat_minor": 0,
  "metadata": {
    "colab": {
      "provenance": []
    },
    "kernelspec": {
      "name": "python3",
      "display_name": "Python 3"
    },
    "language_info": {
      "name": "python"
    }
  },
  "cells": [
    {
      "cell_type": "markdown",
      "source": [
        "# Classification of number\n",
        "Write a function to classify a number:\n",
        "# New Section\n",
        "* If the digits of a number or in (strict) ascending order then it is called 'A'\n",
        "\n",
        "* If the digits of a number or in (strict) descending order then it is called 'D'\n",
        "\n",
        "* If the digits are at first ascending and then descending it is called 'P' (for peak)\n",
        "\n",
        "* If the digits are at first descending and then ascending it is called 'V' (for valley)\n",
        "\n",
        "* If it does not fall into any of the above it is called 'N'"
      ],
      "metadata": {
        "id": "elI_m0gGd0P9"
      }
    },
    {
      "cell_type": "code",
      "execution_count": null,
      "metadata": {
        "id": "8NQOV9b1BHam"
      },
      "outputs": [],
      "source": [
        "def classify_number(num):\n",
        "    digits = [int(d) for d in str(num)]\n",
        "\n",
        "    if digits == sorted(digits):\n",
        "        return 'A'\n",
        "    elif digits == sorted(digits, reverse=True):\n",
        "        return 'D'\n",
        "    elif digits == sorted(digits[:len(digits)//2]) + sorted(digits[len(digits)//2:], reverse=True):\n",
        "        return 'P'\n",
        "    elif digits == sorted(digits[:len(digits)//2], reverse=True) + sorted(digits[len(digits)//2:]):\n",
        "        return 'V'\n",
        "    else:\n",
        "        return 'N'"
      ]
    },
    {
      "cell_type": "code",
      "source": [
        "def classify_number(num):\n",
        "    digits = [int(d) for d in str(num)]\n",
        "    n = len(digits)\n",
        "\n",
        "    if all(digits[i] < digits[i+1] for i in range(n-1)):\n",
        "        return 'A'\n",
        "    elif all(digits[i] > digits[i+1] for i in range(n-1)):\n",
        "        return 'D'\n",
        "    elif digits[:n//2] == sorted(digits[:n//2]) and digits[n//2:] == sorted(digits[n//2:], reverse=True):\n",
        "        return 'P'\n",
        "    elif digits[:n//2] == sorted(digits[:n//2], reverse=True) and digits[n//2:] == sorted(digits[n//2:]):\n",
        "        return 'V'\n",
        "    else:\n",
        "        return 'N'"
      ],
      "metadata": {
        "id": "iaf6hX7JBKtM"
      },
      "execution_count": null,
      "outputs": []
    },
    {
      "cell_type": "code",
      "source": [
        "def classify_number(num):\n",
        "    digits = [int(d) for d in str(num)]\n",
        "\n",
        "    if sorted(digits) == digits:\n",
        "        return 'A'\n",
        "    elif sorted(digits, reverse=True) == digits:\n",
        "        return 'D'\n",
        "    elif sorted(digits) == digits[:len(digits)//2] + sorted(digits[len(digits)//2:], reverse=True):\n",
        "        return 'P'\n",
        "    elif sorted(digits, reverse=True) == digits[:len(digits)//2] + sorted(digits[len(digits)//2:]):\n",
        "        return 'V'\n",
        "    else:\n",
        "        return 'N'"
      ],
      "metadata": {
        "id": "a42OZ9rkcu8r"
      },
      "execution_count": null,
      "outputs": []
    },
    {
      "cell_type": "code",
      "source": [
        "def classify_number(num):\n",
        "    digits = [int(d) for d in str(num)]\n",
        "    n = len(digits)\n",
        "\n",
        "    if n < 2:\n",
        "        return 'N'\n",
        "\n",
        "    is_ascending = True\n",
        "    is_descending = True\n",
        "\n",
        "    for i in range(1, n):\n",
        "        if digits[i] > digits[i-1]:\n",
        "            is_descending = False\n",
        "        elif digits[i] < digits[i-1]:\n",
        "            is_ascending = False\n",
        "\n",
        "    if is_ascending:\n",
        "        return 'A'\n",
        "    elif is_descending:\n",
        "        return 'D'\n",
        "    elif digits == sorted(digits):\n",
        "        return 'P'\n",
        "    elif digits == sorted(digits, reverse=True):\n",
        "        return 'V'\n",
        "    else:\n",
        "        return 'N'"
      ],
      "metadata": {
        "id": "1tbinL7-dZ2D"
      },
      "execution_count": null,
      "outputs": []
    }
  ]
}